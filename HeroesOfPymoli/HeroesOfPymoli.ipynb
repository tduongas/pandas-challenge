{
 "cells": [
  {
   "cell_type": "code",
   "execution_count": 1,
   "metadata": {},
   "outputs": [],
   "source": [
    "# Import Dependencies\n",
    "import pandas as pd\n",
    "import numpy as np"
   ]
  },
  {
   "cell_type": "code",
   "execution_count": 2,
   "metadata": {},
   "outputs": [],
   "source": [
    "# File to Load\n",
    "purchase_data_path = \"Resources/purchase_data.csv\""
   ]
  },
  {
   "cell_type": "code",
   "execution_count": 3,
   "metadata": {},
   "outputs": [
    {
     "data": {
      "text/html": [
       "<div>\n",
       "<style scoped>\n",
       "    .dataframe tbody tr th:only-of-type {\n",
       "        vertical-align: middle;\n",
       "    }\n",
       "\n",
       "    .dataframe tbody tr th {\n",
       "        vertical-align: top;\n",
       "    }\n",
       "\n",
       "    .dataframe thead th {\n",
       "        text-align: right;\n",
       "    }\n",
       "</style>\n",
       "<table border=\"1\" class=\"dataframe\">\n",
       "  <thead>\n",
       "    <tr style=\"text-align: right;\">\n",
       "      <th></th>\n",
       "      <th>Purchase ID</th>\n",
       "      <th>SN</th>\n",
       "      <th>Age</th>\n",
       "      <th>Gender</th>\n",
       "      <th>Item ID</th>\n",
       "      <th>Item Name</th>\n",
       "      <th>Price</th>\n",
       "    </tr>\n",
       "  </thead>\n",
       "  <tbody>\n",
       "    <tr>\n",
       "      <td>0</td>\n",
       "      <td>0</td>\n",
       "      <td>Lisim78</td>\n",
       "      <td>20</td>\n",
       "      <td>Male</td>\n",
       "      <td>108</td>\n",
       "      <td>Extraction, Quickblade Of Trembling Hands</td>\n",
       "      <td>3.53</td>\n",
       "    </tr>\n",
       "    <tr>\n",
       "      <td>1</td>\n",
       "      <td>1</td>\n",
       "      <td>Lisovynya38</td>\n",
       "      <td>40</td>\n",
       "      <td>Male</td>\n",
       "      <td>143</td>\n",
       "      <td>Frenzied Scimitar</td>\n",
       "      <td>1.56</td>\n",
       "    </tr>\n",
       "    <tr>\n",
       "      <td>2</td>\n",
       "      <td>2</td>\n",
       "      <td>Ithergue48</td>\n",
       "      <td>24</td>\n",
       "      <td>Male</td>\n",
       "      <td>92</td>\n",
       "      <td>Final Critic</td>\n",
       "      <td>4.88</td>\n",
       "    </tr>\n",
       "    <tr>\n",
       "      <td>3</td>\n",
       "      <td>3</td>\n",
       "      <td>Chamassasya86</td>\n",
       "      <td>24</td>\n",
       "      <td>Male</td>\n",
       "      <td>100</td>\n",
       "      <td>Blindscythe</td>\n",
       "      <td>3.27</td>\n",
       "    </tr>\n",
       "    <tr>\n",
       "      <td>4</td>\n",
       "      <td>4</td>\n",
       "      <td>Iskosia90</td>\n",
       "      <td>23</td>\n",
       "      <td>Male</td>\n",
       "      <td>131</td>\n",
       "      <td>Fury</td>\n",
       "      <td>1.44</td>\n",
       "    </tr>\n",
       "  </tbody>\n",
       "</table>\n",
       "</div>"
      ],
      "text/plain": [
       "   Purchase ID             SN  Age Gender  Item ID  \\\n",
       "0            0        Lisim78   20   Male      108   \n",
       "1            1    Lisovynya38   40   Male      143   \n",
       "2            2     Ithergue48   24   Male       92   \n",
       "3            3  Chamassasya86   24   Male      100   \n",
       "4            4      Iskosia90   23   Male      131   \n",
       "\n",
       "                                   Item Name  Price  \n",
       "0  Extraction, Quickblade Of Trembling Hands   3.53  \n",
       "1                          Frenzied Scimitar   1.56  \n",
       "2                               Final Critic   4.88  \n",
       "3                                Blindscythe   3.27  \n",
       "4                                       Fury   1.44  "
      ]
     },
     "execution_count": 3,
     "metadata": {},
     "output_type": "execute_result"
    }
   ],
   "source": [
    "# Read the modified GoodReads csv and store into Pandas DataFrame\n",
    "purchases_df = pd.read_csv(purchase_data_path, encoding=\"utf-8\")\n",
    "purchases_df.head()"
   ]
  },
  {
   "cell_type": "code",
   "execution_count": 4,
   "metadata": {},
   "outputs": [
    {
     "data": {
      "text/plain": [
       "0    576\n",
       "dtype: int64"
      ]
     },
     "execution_count": 4,
     "metadata": {},
     "output_type": "execute_result"
    }
   ],
   "source": [
    "################\n",
    "# Player count #\n",
    "################\n",
    "\n",
    "# Total unique players\n",
    "unique_players_df = pd.DataFrame(purchases_df[\"SN\"].unique())\n",
    "total_players = unique_players_df.count()\n",
    "total_players"
   ]
  },
  {
   "cell_type": "code",
   "execution_count": 5,
   "metadata": {},
   "outputs": [
    {
     "data": {
      "text/plain": [
       "0    179\n",
       "dtype: int64"
      ]
     },
     "execution_count": 5,
     "metadata": {},
     "output_type": "execute_result"
    }
   ],
   "source": [
    "###############################\n",
    "# Purchasing Analysis (Total) #\n",
    "###############################\n",
    "\n",
    "# Number of unique items\n",
    "unique_items_df = pd.DataFrame(purchases_df[\"Item Name\"].unique())\n",
    "num_unique_items = unique_items_df.count()\n",
    "num_unique_items"
   ]
  },
  {
   "cell_type": "code",
   "execution_count": 6,
   "metadata": {},
   "outputs": [
    {
     "data": {
      "text/plain": [
       "3.05"
      ]
     },
     "execution_count": 6,
     "metadata": {},
     "output_type": "execute_result"
    }
   ],
   "source": [
    "# Average purchase price\n",
    "average_purchase_price = purchases_df[\"Price\"].mean()\n",
    "average_purchase_price = round(average_purchase_price, 2)\n",
    "average_purchase_price"
   ]
  },
  {
   "cell_type": "code",
   "execution_count": 7,
   "metadata": {},
   "outputs": [
    {
     "data": {
      "text/plain": [
       "780"
      ]
     },
     "execution_count": 7,
     "metadata": {},
     "output_type": "execute_result"
    }
   ],
   "source": [
    "# Total number of purchases\n",
    "total_purchases = purchases_df[\"Purchase ID\"].count()\n",
    "total_purchases"
   ]
  },
  {
   "cell_type": "code",
   "execution_count": 8,
   "metadata": {},
   "outputs": [
    {
     "data": {
      "text/plain": [
       "'$2,379.77'"
      ]
     },
     "execution_count": 8,
     "metadata": {},
     "output_type": "execute_result"
    }
   ],
   "source": [
    "# Total revenue\n",
    "total_revenue = purchases_df[\"Price\"].sum()\n",
    "\"${:,.2f}\".format(float(total_revenue))"
   ]
  },
  {
   "cell_type": "code",
   "execution_count": 9,
   "metadata": {},
   "outputs": [
    {
     "data": {
      "text/plain": [
       "Purchase ID    576\n",
       "SN             576\n",
       "Age            576\n",
       "Gender         576\n",
       "Item ID        576\n",
       "Item Name      576\n",
       "Price          576\n",
       "dtype: int64"
      ]
     },
     "execution_count": 9,
     "metadata": {},
     "output_type": "execute_result"
    }
   ],
   "source": [
    "#######################\n",
    "# Gender Demographics #\n",
    "#######################\n",
    "\n",
    "# Get unique player data frame\n",
    "unique_players_df = purchases_df.drop_duplicates(['SN'], keep='last')\n",
    "\n",
    "# In order to be visualized, a data function must be used...\n",
    "unique_players_df.count().head(10)"
   ]
  },
  {
   "cell_type": "code",
   "execution_count": 10,
   "metadata": {},
   "outputs": [
    {
     "name": "stdout",
     "output_type": "stream",
     "text": [
      "Male Count: 484 (84.03%)\n",
      "Female Count: 81 (14.06%)\n",
      "Other Count: 11 (1.91%)\n"
     ]
    }
   ],
   "source": [
    "# Gender counts\n",
    "male_df = unique_players_df.loc[unique_players_df[\"Gender\"] == \"Male\"]\n",
    "male_count = male_df[\"Gender\"].count()\n",
    "\n",
    "female_df = unique_players_df.loc[unique_players_df[\"Gender\"] == \"Female\"]\n",
    "female_count = female_df[\"Gender\"].count()\n",
    "\n",
    "other_df = unique_players_df.loc[unique_players_df[\"Gender\"] == \"Other / Non-Disclosed\"]\n",
    "other_count = other_df[\"Gender\"].count()\n",
    "\n",
    "total_players = unique_players_df[\"Gender\"].count()\n",
    "\n",
    "print(f\"Male Count: {male_count} ({round((male_count/total_players)*100,2)}%)\")\n",
    "print(f\"Female Count: {female_count} ({round((female_count/total_players)*100,2)}%)\")\n",
    "print(f\"Other Count: {other_count} ({round((other_count/total_players)*100,2)}%)\")\n"
   ]
  },
  {
   "cell_type": "code",
   "execution_count": 11,
   "metadata": {},
   "outputs": [
    {
     "data": {
      "text/plain": [
       "Male                     652\n",
       "Female                   113\n",
       "Other / Non-Disclosed     15\n",
       "Name: Gender, dtype: int64"
      ]
     },
     "execution_count": 11,
     "metadata": {},
     "output_type": "execute_result"
    }
   ],
   "source": [
    "################################\n",
    "# Purchasing Analysis (Gender) #\n",
    "################################\n",
    "\n",
    "# Purchase Count by Gender\n",
    "purchases_df[\"Gender\"].value_counts()\n"
   ]
  },
  {
   "cell_type": "code",
   "execution_count": 12,
   "metadata": {},
   "outputs": [
    {
     "data": {
      "text/html": [
       "<div>\n",
       "<style scoped>\n",
       "    .dataframe tbody tr th:only-of-type {\n",
       "        vertical-align: middle;\n",
       "    }\n",
       "\n",
       "    .dataframe tbody tr th {\n",
       "        vertical-align: top;\n",
       "    }\n",
       "\n",
       "    .dataframe thead th {\n",
       "        text-align: right;\n",
       "    }\n",
       "</style>\n",
       "<table border=\"1\" class=\"dataframe\">\n",
       "  <thead>\n",
       "    <tr style=\"text-align: right;\">\n",
       "      <th></th>\n",
       "      <th>Average Male Purchase Price</th>\n",
       "      <th>Average Female Purchase Price</th>\n",
       "      <th>Average Other Purchase Price</th>\n",
       "    </tr>\n",
       "  </thead>\n",
       "  <tbody>\n",
       "    <tr>\n",
       "      <td>0</td>\n",
       "      <td>$3.02</td>\n",
       "      <td>$3.20</td>\n",
       "      <td>$3.35</td>\n",
       "    </tr>\n",
       "  </tbody>\n",
       "</table>\n",
       "</div>"
      ],
      "text/plain": [
       "  Average Male Purchase Price Average Female Purchase Price  \\\n",
       "0                       $3.02                         $3.20   \n",
       "\n",
       "  Average Other Purchase Price  \n",
       "0                        $3.35  "
      ]
     },
     "execution_count": 12,
     "metadata": {},
     "output_type": "execute_result"
    }
   ],
   "source": [
    "# Average Purchase Price by Gender\n",
    "male_purchases_df = purchases_df.loc[purchases_df[\"Gender\"] == \"Male\"]\n",
    "average_male_purchase_price = male_purchases_df[\"Price\"].mean()\n",
    "average_male_purchase_price = \"${:.2f}\".format(float(round(average_male_purchase_price,2)))\n",
    "\n",
    "female_purchases_df = purchases_df.loc[purchases_df[\"Gender\"] == \"Female\"]\n",
    "average_female_purchase_price = female_purchases_df[\"Price\"].mean()\n",
    "average_female_purchase_price = \"${:.2f}\".format(float(round(average_female_purchase_price,2)))\n",
    "\n",
    "other_purchases_df = purchases_df.loc[purchases_df[\"Gender\"] == \"Other / Non-Disclosed\"]\n",
    "average_other_purchase_price = other_purchases_df[\"Price\"].mean()\n",
    "average_other_purchase_price = \"${:.2f}\".format(float(round(average_other_purchase_price,2)))\n",
    "\n",
    "# Creating a summary DataFrame using above values\n",
    "summary_df = pd.DataFrame({\"Average Male Purchase Price\": [average_male_purchase_price],\n",
    "                          \"Average Female Purchase Price\": [average_female_purchase_price],\n",
    "                          \"Average Other Purchase Price\": [average_other_purchase_price]})\n",
    "summary_df\n"
   ]
  },
  {
   "cell_type": "code",
   "execution_count": 13,
   "metadata": {},
   "outputs": [
    {
     "data": {
      "text/html": [
       "<div>\n",
       "<style scoped>\n",
       "    .dataframe tbody tr th:only-of-type {\n",
       "        vertical-align: middle;\n",
       "    }\n",
       "\n",
       "    .dataframe tbody tr th {\n",
       "        vertical-align: top;\n",
       "    }\n",
       "\n",
       "    .dataframe thead th {\n",
       "        text-align: right;\n",
       "    }\n",
       "</style>\n",
       "<table border=\"1\" class=\"dataframe\">\n",
       "  <thead>\n",
       "    <tr style=\"text-align: right;\">\n",
       "      <th></th>\n",
       "      <th>Total Male Purchases</th>\n",
       "      <th>Total Female Purchases</th>\n",
       "      <th>Total Other Purchases</th>\n",
       "    </tr>\n",
       "  </thead>\n",
       "  <tbody>\n",
       "    <tr>\n",
       "      <td>0</td>\n",
       "      <td>$1,967.64</td>\n",
       "      <td>$361.94</td>\n",
       "      <td>$50.19</td>\n",
       "    </tr>\n",
       "  </tbody>\n",
       "</table>\n",
       "</div>"
      ],
      "text/plain": [
       "  Total Male Purchases Total Female Purchases Total Other Purchases\n",
       "0            $1,967.64                $361.94                $50.19"
      ]
     },
     "execution_count": 13,
     "metadata": {},
     "output_type": "execute_result"
    }
   ],
   "source": [
    "# Total Purchase Value\n",
    "male_purchases_df = purchases_df.loc[purchases_df[\"Gender\"] == \"Male\"]\n",
    "total_male_purchases = male_purchases_df[\"Price\"].sum()\n",
    "total_male_purchases = \"${:,.2f}\".format(float(round(total_male_purchases,2)))\n",
    "\n",
    "female_purchases_df = purchases_df.loc[purchases_df[\"Gender\"] == \"Female\"]\n",
    "total_female_purchases = female_purchases_df[\"Price\"].sum()\n",
    "total_female_purchases = \"${:.2f}\".format(float(round(total_female_purchases,2)))\n",
    "\n",
    "other_purchases_df = purchases_df.loc[purchases_df[\"Gender\"] == \"Other / Non-Disclosed\"]\n",
    "total_other_purchases = other_purchases_df[\"Price\"].sum()\n",
    "total_other_purchases = \"${:.2f}\".format(float(round(total_other_purchases,2)))\n",
    "\n",
    "# Creating a summary DataFrame using above values\n",
    "summary_df = pd.DataFrame({\"Total Male Purchases\": [total_male_purchases],\n",
    "                          \"Total Female Purchases\": [total_female_purchases],\n",
    "                          \"Total Other Purchases\": [total_other_purchases]})\n",
    "summary_df"
   ]
  },
  {
   "cell_type": "code",
   "execution_count": 16,
   "metadata": {},
   "outputs": [
    {
     "data": {
      "text/plain": [
       "User          Gender\n",
       "Adairialis76  Male      2.280000\n",
       "Adastirin33   Female    4.480000\n",
       "Aeda94        Male      4.910000\n",
       "Aela59        Male      4.320000\n",
       "Aelaria33     Male      1.790000\n",
       "Aelastirin39  Male      3.645000\n",
       "Aelidru27     Male      1.090000\n",
       "Aelin32       Male      2.993333\n",
       "Aelly27       Male      3.395000\n",
       "Aellynun67    Male      3.740000\n",
       "Aellyria80    Male      3.080000\n",
       "Aelollo59     Male      2.815000\n",
       "Aenarap34     Male      2.960000\n",
       "Aeral43       Male      4.400000\n",
       "Aeral68       Male      4.000000\n",
       "Name: Price, dtype: float64"
      ]
     },
     "execution_count": 16,
     "metadata": {},
     "output_type": "execute_result"
    }
   ],
   "source": [
    "# Average Purchase Total per Person by Gender\n",
    "grouped_users_df = purchases_df.rename(columns={\"SN\": \"User\"})\n",
    "grouped_users_df = grouped_users_df.groupby([\"User\",\"Gender\"])\n",
    "\n",
    "average_totals = grouped_users_df[\"Price\"].mean()\n",
    "\n",
    "average_totals.head(15)"
   ]
  },
  {
   "cell_type": "code",
   "execution_count": 17,
   "metadata": {},
   "outputs": [],
   "source": [
    "####################\n",
    "# Age Demographics #\n",
    "####################\n",
    "\n",
    "# Purchase Count by Age Group\n",
    "\n",
    "# Create the bins in which Data will be held\n",
    "bins = [0, 10, 14, 19, 24, 29, 34, 39, 44, 49]\n",
    "\n",
    "# Create the names for the five bins\n",
    "group_names = [\"<10\", \"10-14\", \"15-19\", \"20-24\", \"25-29\", \"30-34\", \"35-39\", \"40-44\", \"45-49\"]\n",
    "\n",
    "age_group_df = purchases_df\n",
    "\n",
    "age_group_df[\"Age Group\"] = pd.cut(purchases_df[\"Age\"], bins, labels=group_names, include_lowest=True)\n",
    "\n",
    "age_group_df = age_group_df.groupby([\"Age Group\"])"
   ]
  },
  {
   "cell_type": "code",
   "execution_count": 18,
   "metadata": {},
   "outputs": [
    {
     "data": {
      "text/plain": [
       "Age Group\n",
       "<10       32\n",
       "10-14     19\n",
       "15-19    136\n",
       "20-24    365\n",
       "25-29    101\n",
       "30-34     73\n",
       "35-39     41\n",
       "40-44     12\n",
       "45-49      1\n",
       "Name: Purchase ID, dtype: int64"
      ]
     },
     "execution_count": 18,
     "metadata": {},
     "output_type": "execute_result"
    }
   ],
   "source": [
    "# Purchase Count by Age Group\n",
    "purchase_count_by_age = age_group_df[\"Purchase ID\"].count()\n",
    "purchase_count_by_age"
   ]
  },
  {
   "cell_type": "code",
   "execution_count": 19,
   "metadata": {},
   "outputs": [
    {
     "data": {
      "text/plain": [
       "Age Group\n",
       "<10      3.405000\n",
       "10-14    2.681579\n",
       "15-19    3.035956\n",
       "20-24    3.052219\n",
       "25-29    2.900990\n",
       "30-34    2.931507\n",
       "35-39    3.601707\n",
       "40-44    3.045000\n",
       "45-49    1.700000\n",
       "Name: Price, dtype: float64"
      ]
     },
     "execution_count": 19,
     "metadata": {},
     "output_type": "execute_result"
    }
   ],
   "source": [
    "# Average Purchase Price by Age Group\n",
    "average_purchase_price_by_age = age_group_df[\"Price\"].mean()\n",
    "average_purchase_price_by_age"
   ]
  },
  {
   "cell_type": "code",
   "execution_count": 20,
   "metadata": {},
   "outputs": [
    {
     "data": {
      "text/plain": [
       "Age Group\n",
       "<10       108.96\n",
       "10-14      50.95\n",
       "15-19     412.89\n",
       "20-24    1114.06\n",
       "25-29     293.00\n",
       "30-34     214.00\n",
       "35-39     147.67\n",
       "40-44      36.54\n",
       "45-49       1.70\n",
       "Name: Price, dtype: float64"
      ]
     },
     "execution_count": 20,
     "metadata": {},
     "output_type": "execute_result"
    }
   ],
   "source": [
    "# Total Purchase Value by Age Group\n",
    "total_purchase_value_by_age = age_group_df[\"Price\"].sum()\n",
    "total_purchase_value_by_age"
   ]
  },
  {
   "cell_type": "code",
   "execution_count": 21,
   "metadata": {},
   "outputs": [
    {
     "data": {
      "text/plain": [
       "Age Group\n",
       "<10       84.491667\n",
       "10-14     41.770000\n",
       "15-19    328.838333\n",
       "20-24    782.452500\n",
       "25-29    218.120333\n",
       "30-34    152.951667\n",
       "35-39    110.253333\n",
       "40-44     33.945000\n",
       "45-49      1.700000\n",
       "Name: Average Purchase Total, dtype: float64"
      ]
     },
     "execution_count": 21,
     "metadata": {},
     "output_type": "execute_result"
    }
   ],
   "source": [
    "# Average Purchase Total per Person by Age Group\n",
    "age_group_df = purchases_df\n",
    "age_group_df[\"Age Group\"] = pd.cut(purchases_df[\"Age\"], bins, labels=group_names, include_lowest=True)\n",
    "average_purchase_df = age_group_df.groupby(\"SN\")['Price'].mean()\n",
    "\n",
    "# Merge the age group with average purchase total\n",
    "merge_df = pd.merge(age_group_df, average_purchase_df, on=\"SN\")\n",
    "\n",
    "# Delete extraneous column\n",
    "del merge_df['Purchase ID']\n",
    "del merge_df['Age']\n",
    "del merge_df['Gender']\n",
    "del merge_df['Item ID']\n",
    "del merge_df['Item Name']\n",
    "del merge_df['Price_x']\n",
    "\n",
    "average_purchase_total_df = merge_df.rename(columns={\"SN\":\"User\", \"Price_y\":\"Average Purchase Total\"})\n",
    "\n",
    "cleaned_average_purchase_total_df = average_purchase_total_df.drop_duplicates(['User'], keep='last')\n",
    "grouped_average_user_total_purchase = cleaned_average_purchase_total_df.groupby([\"Age Group\"])\n",
    "\n",
    "grouped_average_user_total_purchase[\"Average Purchase Total\"].sum()"
   ]
  },
  {
   "cell_type": "code",
   "execution_count": 22,
   "metadata": {},
   "outputs": [
    {
     "data": {
      "text/html": [
       "<div>\n",
       "<style scoped>\n",
       "    .dataframe tbody tr th:only-of-type {\n",
       "        vertical-align: middle;\n",
       "    }\n",
       "\n",
       "    .dataframe tbody tr th {\n",
       "        vertical-align: top;\n",
       "    }\n",
       "\n",
       "    .dataframe thead th {\n",
       "        text-align: right;\n",
       "    }\n",
       "</style>\n",
       "<table border=\"1\" class=\"dataframe\">\n",
       "  <thead>\n",
       "    <tr style=\"text-align: right;\">\n",
       "      <th></th>\n",
       "      <th>SN</th>\n",
       "      <th>Total Purchase Value</th>\n",
       "    </tr>\n",
       "  </thead>\n",
       "  <tbody>\n",
       "    <tr>\n",
       "      <td>0</td>\n",
       "      <td>Lisosia93</td>\n",
       "      <td>18.96</td>\n",
       "    </tr>\n",
       "    <tr>\n",
       "      <td>1</td>\n",
       "      <td>Idastidru52</td>\n",
       "      <td>15.45</td>\n",
       "    </tr>\n",
       "    <tr>\n",
       "      <td>2</td>\n",
       "      <td>Chamjask73</td>\n",
       "      <td>13.83</td>\n",
       "    </tr>\n",
       "    <tr>\n",
       "      <td>3</td>\n",
       "      <td>Iral74</td>\n",
       "      <td>13.62</td>\n",
       "    </tr>\n",
       "    <tr>\n",
       "      <td>4</td>\n",
       "      <td>Iskadarya95</td>\n",
       "      <td>13.10</td>\n",
       "    </tr>\n",
       "  </tbody>\n",
       "</table>\n",
       "</div>"
      ],
      "text/plain": [
       "            SN  Total Purchase Value\n",
       "0    Lisosia93                 18.96\n",
       "1  Idastidru52                 15.45\n",
       "2   Chamjask73                 13.83\n",
       "3       Iral74                 13.62\n",
       "4  Iskadarya95                 13.10"
      ]
     },
     "execution_count": 22,
     "metadata": {},
     "output_type": "execute_result"
    }
   ],
   "source": [
    "################\n",
    "# Top Spenders #\n",
    "################\n",
    "\n",
    "# Total Purchase Value\n",
    "total_purchase_value_df = purchases_df.groupby(['SN'])['Price'] \\\n",
    "                             .sum() \\\n",
    "                             .reset_index(name='Total Purchase Value') \\\n",
    "                             .sort_values(['Total Purchase Value'], ascending=False) \\\n",
    "                             .head(5)\n",
    "\n",
    "total_purchase_value_df = total_purchase_value_df.reset_index(drop=True)\n",
    "total_purchase_value_df"
   ]
  },
  {
   "cell_type": "code",
   "execution_count": 23,
   "metadata": {},
   "outputs": [
    {
     "data": {
      "text/html": [
       "<div>\n",
       "<style scoped>\n",
       "    .dataframe tbody tr th:only-of-type {\n",
       "        vertical-align: middle;\n",
       "    }\n",
       "\n",
       "    .dataframe tbody tr th {\n",
       "        vertical-align: top;\n",
       "    }\n",
       "\n",
       "    .dataframe thead th {\n",
       "        text-align: right;\n",
       "    }\n",
       "</style>\n",
       "<table border=\"1\" class=\"dataframe\">\n",
       "  <thead>\n",
       "    <tr style=\"text-align: right;\">\n",
       "      <th></th>\n",
       "      <th>SN</th>\n",
       "      <th>Total Purchase Value</th>\n",
       "      <th>Purchase Count</th>\n",
       "    </tr>\n",
       "  </thead>\n",
       "  <tbody>\n",
       "    <tr>\n",
       "      <td>0</td>\n",
       "      <td>Lisosia93</td>\n",
       "      <td>18.96</td>\n",
       "      <td>5</td>\n",
       "    </tr>\n",
       "    <tr>\n",
       "      <td>1</td>\n",
       "      <td>Idastidru52</td>\n",
       "      <td>15.45</td>\n",
       "      <td>4</td>\n",
       "    </tr>\n",
       "    <tr>\n",
       "      <td>2</td>\n",
       "      <td>Chamjask73</td>\n",
       "      <td>13.83</td>\n",
       "      <td>3</td>\n",
       "    </tr>\n",
       "    <tr>\n",
       "      <td>3</td>\n",
       "      <td>Iral74</td>\n",
       "      <td>13.62</td>\n",
       "      <td>4</td>\n",
       "    </tr>\n",
       "    <tr>\n",
       "      <td>4</td>\n",
       "      <td>Iskadarya95</td>\n",
       "      <td>13.10</td>\n",
       "      <td>3</td>\n",
       "    </tr>\n",
       "  </tbody>\n",
       "</table>\n",
       "</div>"
      ],
      "text/plain": [
       "            SN  Total Purchase Value  Purchase Count\n",
       "0    Lisosia93                 18.96               5\n",
       "1  Idastidru52                 15.45               4\n",
       "2   Chamjask73                 13.83               3\n",
       "3       Iral74                 13.62               4\n",
       "4  Iskadarya95                 13.10               3"
      ]
     },
     "execution_count": 23,
     "metadata": {},
     "output_type": "execute_result"
    }
   ],
   "source": [
    "# Purchase Count\n",
    "purchase_count_df = purchases_df.groupby(['SN'])['Purchase ID'] \\\n",
    "                             .count() \\\n",
    "                             .reset_index(name='Purchase Count') \\\n",
    "                             .sort_values(['Purchase Count'], ascending=False)\n",
    "\n",
    "merge_1_df = pd.merge(total_purchase_value_df, purchase_count_df, on=\"SN\")\n",
    "merge_1_df"
   ]
  },
  {
   "cell_type": "code",
   "execution_count": 24,
   "metadata": {},
   "outputs": [
    {
     "data": {
      "text/html": [
       "<div>\n",
       "<style scoped>\n",
       "    .dataframe tbody tr th:only-of-type {\n",
       "        vertical-align: middle;\n",
       "    }\n",
       "\n",
       "    .dataframe tbody tr th {\n",
       "        vertical-align: top;\n",
       "    }\n",
       "\n",
       "    .dataframe thead th {\n",
       "        text-align: right;\n",
       "    }\n",
       "</style>\n",
       "<table border=\"1\" class=\"dataframe\">\n",
       "  <thead>\n",
       "    <tr style=\"text-align: right;\">\n",
       "      <th></th>\n",
       "      <th>SN</th>\n",
       "      <th>Total Purchase Value</th>\n",
       "      <th>Purchase Count</th>\n",
       "      <th>Average Purchase Price</th>\n",
       "    </tr>\n",
       "  </thead>\n",
       "  <tbody>\n",
       "    <tr>\n",
       "      <td>0</td>\n",
       "      <td>Lisosia93</td>\n",
       "      <td>18.96</td>\n",
       "      <td>5</td>\n",
       "      <td>3.792000</td>\n",
       "    </tr>\n",
       "    <tr>\n",
       "      <td>1</td>\n",
       "      <td>Idastidru52</td>\n",
       "      <td>15.45</td>\n",
       "      <td>4</td>\n",
       "      <td>3.862500</td>\n",
       "    </tr>\n",
       "    <tr>\n",
       "      <td>2</td>\n",
       "      <td>Chamjask73</td>\n",
       "      <td>13.83</td>\n",
       "      <td>3</td>\n",
       "      <td>4.610000</td>\n",
       "    </tr>\n",
       "    <tr>\n",
       "      <td>3</td>\n",
       "      <td>Iral74</td>\n",
       "      <td>13.62</td>\n",
       "      <td>4</td>\n",
       "      <td>3.405000</td>\n",
       "    </tr>\n",
       "    <tr>\n",
       "      <td>4</td>\n",
       "      <td>Iskadarya95</td>\n",
       "      <td>13.10</td>\n",
       "      <td>3</td>\n",
       "      <td>4.366667</td>\n",
       "    </tr>\n",
       "  </tbody>\n",
       "</table>\n",
       "</div>"
      ],
      "text/plain": [
       "            SN  Total Purchase Value  Purchase Count  Average Purchase Price\n",
       "0    Lisosia93                 18.96               5                3.792000\n",
       "1  Idastidru52                 15.45               4                3.862500\n",
       "2   Chamjask73                 13.83               3                4.610000\n",
       "3       Iral74                 13.62               4                3.405000\n",
       "4  Iskadarya95                 13.10               3                4.366667"
      ]
     },
     "execution_count": 24,
     "metadata": {},
     "output_type": "execute_result"
    }
   ],
   "source": [
    "# Average Purchase Price\n",
    "avarage_purchase_price_df = purchases_df.groupby(['SN'])['Price'] \\\n",
    "                             .mean() \\\n",
    "                             .reset_index(name='Average Purchase Price') \\\n",
    "                             .sort_values(['Average Purchase Price'], ascending=False)\n",
    "\n",
    "merge_2_df = pd.merge(merge_1_df, avarage_purchase_price_df, on=\"SN\")\n",
    "merge_2_df"
   ]
  },
  {
   "cell_type": "code",
   "execution_count": 25,
   "metadata": {},
   "outputs": [
    {
     "data": {
      "text/html": [
       "<div>\n",
       "<style scoped>\n",
       "    .dataframe tbody tr th:only-of-type {\n",
       "        vertical-align: middle;\n",
       "    }\n",
       "\n",
       "    .dataframe tbody tr th {\n",
       "        vertical-align: top;\n",
       "    }\n",
       "\n",
       "    .dataframe thead th {\n",
       "        text-align: right;\n",
       "    }\n",
       "</style>\n",
       "<table border=\"1\" class=\"dataframe\">\n",
       "  <thead>\n",
       "    <tr style=\"text-align: right;\">\n",
       "      <th></th>\n",
       "      <th>SN</th>\n",
       "      <th>Purchase Count</th>\n",
       "      <th>Average Purchase Price</th>\n",
       "      <th>Total Purchase Value</th>\n",
       "    </tr>\n",
       "  </thead>\n",
       "  <tbody>\n",
       "    <tr>\n",
       "      <td>0</td>\n",
       "      <td>Lisosia93</td>\n",
       "      <td>5</td>\n",
       "      <td>3.792000</td>\n",
       "      <td>18.96</td>\n",
       "    </tr>\n",
       "    <tr>\n",
       "      <td>1</td>\n",
       "      <td>Idastidru52</td>\n",
       "      <td>4</td>\n",
       "      <td>3.862500</td>\n",
       "      <td>15.45</td>\n",
       "    </tr>\n",
       "    <tr>\n",
       "      <td>2</td>\n",
       "      <td>Chamjask73</td>\n",
       "      <td>3</td>\n",
       "      <td>4.610000</td>\n",
       "      <td>13.83</td>\n",
       "    </tr>\n",
       "    <tr>\n",
       "      <td>3</td>\n",
       "      <td>Iral74</td>\n",
       "      <td>4</td>\n",
       "      <td>3.405000</td>\n",
       "      <td>13.62</td>\n",
       "    </tr>\n",
       "    <tr>\n",
       "      <td>4</td>\n",
       "      <td>Iskadarya95</td>\n",
       "      <td>3</td>\n",
       "      <td>4.366667</td>\n",
       "      <td>13.10</td>\n",
       "    </tr>\n",
       "  </tbody>\n",
       "</table>\n",
       "</div>"
      ],
      "text/plain": [
       "            SN  Purchase Count  Average Purchase Price  Total Purchase Value\n",
       "0    Lisosia93               5                3.792000                 18.96\n",
       "1  Idastidru52               4                3.862500                 15.45\n",
       "2   Chamjask73               3                4.610000                 13.83\n",
       "3       Iral74               4                3.405000                 13.62\n",
       "4  Iskadarya95               3                4.366667                 13.10"
      ]
     },
     "execution_count": 25,
     "metadata": {},
     "output_type": "execute_result"
    }
   ],
   "source": [
    "# Top 5 Spenders by total purchase value\n",
    "top_5_spenders_df = merge_2_df[[\"SN\",\"Purchase Count\",\"Average Purchase Price\",\"Total Purchase Value\"]]\n",
    "top_5_spenders_df"
   ]
  },
  {
   "cell_type": "code",
   "execution_count": 26,
   "metadata": {},
   "outputs": [
    {
     "data": {
      "text/html": [
       "<div>\n",
       "<style scoped>\n",
       "    .dataframe tbody tr th:only-of-type {\n",
       "        vertical-align: middle;\n",
       "    }\n",
       "\n",
       "    .dataframe tbody tr th {\n",
       "        vertical-align: top;\n",
       "    }\n",
       "\n",
       "    .dataframe thead th {\n",
       "        text-align: right;\n",
       "    }\n",
       "</style>\n",
       "<table border=\"1\" class=\"dataframe\">\n",
       "  <thead>\n",
       "    <tr style=\"text-align: right;\">\n",
       "      <th></th>\n",
       "      <th>Item ID</th>\n",
       "      <th>Item Name</th>\n",
       "      <th>Purchase Count</th>\n",
       "    </tr>\n",
       "  </thead>\n",
       "  <tbody>\n",
       "    <tr>\n",
       "      <td>0</td>\n",
       "      <td>92</td>\n",
       "      <td>Final Critic</td>\n",
       "      <td>13</td>\n",
       "    </tr>\n",
       "    <tr>\n",
       "      <td>1</td>\n",
       "      <td>178</td>\n",
       "      <td>Oathbreaker, Last Hope of the Breaking Storm</td>\n",
       "      <td>12</td>\n",
       "    </tr>\n",
       "    <tr>\n",
       "      <td>2</td>\n",
       "      <td>145</td>\n",
       "      <td>Fiery Glass Crusader</td>\n",
       "      <td>9</td>\n",
       "    </tr>\n",
       "    <tr>\n",
       "      <td>3</td>\n",
       "      <td>132</td>\n",
       "      <td>Persuasion</td>\n",
       "      <td>9</td>\n",
       "    </tr>\n",
       "    <tr>\n",
       "      <td>4</td>\n",
       "      <td>108</td>\n",
       "      <td>Extraction, Quickblade Of Trembling Hands</td>\n",
       "      <td>9</td>\n",
       "    </tr>\n",
       "  </tbody>\n",
       "</table>\n",
       "</div>"
      ],
      "text/plain": [
       "   Item ID                                     Item Name  Purchase Count\n",
       "0       92                                  Final Critic              13\n",
       "1      178  Oathbreaker, Last Hope of the Breaking Storm              12\n",
       "2      145                          Fiery Glass Crusader               9\n",
       "3      132                                    Persuasion               9\n",
       "4      108     Extraction, Quickblade Of Trembling Hands               9"
      ]
     },
     "execution_count": 26,
     "metadata": {},
     "output_type": "execute_result"
    }
   ],
   "source": [
    "######################\n",
    "# Most Popular Items #\n",
    "######################\n",
    "\n",
    "# 5 most popular items by purchase count\n",
    "purchase_count_df = purchases_df.groupby(['Item ID','Item Name'])['Purchase ID'] \\\n",
    "                             .count() \\\n",
    "                             .reset_index(name='Purchase Count') \\\n",
    "                             .sort_values(['Purchase Count'], ascending=False) \\\n",
    "                             .head(5)\n",
    "\n",
    "purchase_count_df = purchase_count_df.reset_index(drop=True)\n",
    "purchase_count_df"
   ]
  },
  {
   "cell_type": "code",
   "execution_count": 27,
   "metadata": {},
   "outputs": [],
   "source": [
    "# Merge Items Price into Purchase Count\n",
    "item_price_df = purchases_df[[\"Item ID\",\"Price\"]]\n",
    "merge_1_df = pd.merge(purchase_count_df, item_price_df, on=\"Item ID\")\n",
    "#merge_1_df"
   ]
  },
  {
   "cell_type": "code",
   "execution_count": 28,
   "metadata": {},
   "outputs": [],
   "source": [
    "# Merge Total Purchase Value\n",
    "total_purchase_value_df = purchases_df.groupby(['Item ID'])['Price'] \\\n",
    "                             .sum() \\\n",
    "                             .reset_index(name='Total Purchase Value') \\\n",
    "                             .sort_values(['Total Purchase Value'], ascending=False)\n",
    "merge_2_df = pd.merge(merge_1_df, total_purchase_value_df, on=\"Item ID\")\n",
    "\n",
    "# Let's ignore the Price differences for Item ID 92 and 132"
   ]
  },
  {
   "cell_type": "code",
   "execution_count": 29,
   "metadata": {},
   "outputs": [
    {
     "data": {
      "text/html": [
       "<div>\n",
       "<style scoped>\n",
       "    .dataframe tbody tr th:only-of-type {\n",
       "        vertical-align: middle;\n",
       "    }\n",
       "\n",
       "    .dataframe tbody tr th {\n",
       "        vertical-align: top;\n",
       "    }\n",
       "\n",
       "    .dataframe thead th {\n",
       "        text-align: right;\n",
       "    }\n",
       "</style>\n",
       "<table border=\"1\" class=\"dataframe\">\n",
       "  <thead>\n",
       "    <tr style=\"text-align: right;\">\n",
       "      <th></th>\n",
       "      <th>Item ID</th>\n",
       "      <th>Item Name</th>\n",
       "      <th>Purchase Count</th>\n",
       "      <th>Price</th>\n",
       "      <th>Total Purchase Value</th>\n",
       "    </tr>\n",
       "  </thead>\n",
       "  <tbody>\n",
       "    <tr>\n",
       "      <td>0</td>\n",
       "      <td>92</td>\n",
       "      <td>Final Critic</td>\n",
       "      <td>13</td>\n",
       "      <td>4.19</td>\n",
       "      <td>59.99</td>\n",
       "    </tr>\n",
       "    <tr>\n",
       "      <td>1</td>\n",
       "      <td>178</td>\n",
       "      <td>Oathbreaker, Last Hope of the Breaking Storm</td>\n",
       "      <td>12</td>\n",
       "      <td>4.23</td>\n",
       "      <td>50.76</td>\n",
       "    </tr>\n",
       "    <tr>\n",
       "      <td>2</td>\n",
       "      <td>145</td>\n",
       "      <td>Fiery Glass Crusader</td>\n",
       "      <td>9</td>\n",
       "      <td>4.58</td>\n",
       "      <td>41.22</td>\n",
       "    </tr>\n",
       "    <tr>\n",
       "      <td>3</td>\n",
       "      <td>132</td>\n",
       "      <td>Persuasion</td>\n",
       "      <td>9</td>\n",
       "      <td>3.33</td>\n",
       "      <td>28.99</td>\n",
       "    </tr>\n",
       "    <tr>\n",
       "      <td>4</td>\n",
       "      <td>108</td>\n",
       "      <td>Extraction, Quickblade Of Trembling Hands</td>\n",
       "      <td>9</td>\n",
       "      <td>3.53</td>\n",
       "      <td>31.77</td>\n",
       "    </tr>\n",
       "  </tbody>\n",
       "</table>\n",
       "</div>"
      ],
      "text/plain": [
       "   Item ID                                     Item Name  Purchase Count  \\\n",
       "0       92                                  Final Critic              13   \n",
       "1      178  Oathbreaker, Last Hope of the Breaking Storm              12   \n",
       "2      145                          Fiery Glass Crusader               9   \n",
       "3      132                                    Persuasion               9   \n",
       "4      108     Extraction, Quickblade Of Trembling Hands               9   \n",
       "\n",
       "   Price  Total Purchase Value  \n",
       "0   4.19                 59.99  \n",
       "1   4.23                 50.76  \n",
       "2   4.58                 41.22  \n",
       "3   3.33                 28.99  \n",
       "4   3.53                 31.77  "
      ]
     },
     "execution_count": 29,
     "metadata": {},
     "output_type": "execute_result"
    }
   ],
   "source": [
    "# 5 most popular items by purchase count\n",
    "poplular_items_by_purchase_count = merge_2_df.drop_duplicates(['Item ID'], keep='last')\n",
    "poplular_items_by_purchase_count = poplular_items_by_purchase_count.reset_index(drop=True)\n",
    "poplular_items_by_purchase_count"
   ]
  },
  {
   "cell_type": "code",
   "execution_count": 30,
   "metadata": {},
   "outputs": [
    {
     "data": {
      "text/html": [
       "<div>\n",
       "<style scoped>\n",
       "    .dataframe tbody tr th:only-of-type {\n",
       "        vertical-align: middle;\n",
       "    }\n",
       "\n",
       "    .dataframe tbody tr th {\n",
       "        vertical-align: top;\n",
       "    }\n",
       "\n",
       "    .dataframe thead th {\n",
       "        text-align: right;\n",
       "    }\n",
       "</style>\n",
       "<table border=\"1\" class=\"dataframe\">\n",
       "  <thead>\n",
       "    <tr style=\"text-align: right;\">\n",
       "      <th></th>\n",
       "      <th>Item ID</th>\n",
       "      <th>Item Name</th>\n",
       "      <th>Total Purchase Value</th>\n",
       "    </tr>\n",
       "  </thead>\n",
       "  <tbody>\n",
       "    <tr>\n",
       "      <td>0</td>\n",
       "      <td>92</td>\n",
       "      <td>Final Critic</td>\n",
       "      <td>59.99</td>\n",
       "    </tr>\n",
       "    <tr>\n",
       "      <td>1</td>\n",
       "      <td>178</td>\n",
       "      <td>Oathbreaker, Last Hope of the Breaking Storm</td>\n",
       "      <td>50.76</td>\n",
       "    </tr>\n",
       "    <tr>\n",
       "      <td>2</td>\n",
       "      <td>82</td>\n",
       "      <td>Nirvana</td>\n",
       "      <td>44.10</td>\n",
       "    </tr>\n",
       "    <tr>\n",
       "      <td>3</td>\n",
       "      <td>145</td>\n",
       "      <td>Fiery Glass Crusader</td>\n",
       "      <td>41.22</td>\n",
       "    </tr>\n",
       "    <tr>\n",
       "      <td>4</td>\n",
       "      <td>103</td>\n",
       "      <td>Singed Scalpel</td>\n",
       "      <td>34.80</td>\n",
       "    </tr>\n",
       "  </tbody>\n",
       "</table>\n",
       "</div>"
      ],
      "text/plain": [
       "   Item ID                                     Item Name  Total Purchase Value\n",
       "0       92                                  Final Critic                 59.99\n",
       "1      178  Oathbreaker, Last Hope of the Breaking Storm                 50.76\n",
       "2       82                                       Nirvana                 44.10\n",
       "3      145                          Fiery Glass Crusader                 41.22\n",
       "4      103                                Singed Scalpel                 34.80"
      ]
     },
     "execution_count": 30,
     "metadata": {},
     "output_type": "execute_result"
    }
   ],
   "source": [
    "#########################\n",
    "# Most Profitable Items #\n",
    "#########################\n",
    "\n",
    "# 5 most popular items by purchase value\n",
    "purchase_value_df = purchases_df.groupby(['Item ID','Item Name'])['Price'] \\\n",
    "                             .sum() \\\n",
    "                             .reset_index(name='Total Purchase Value') \\\n",
    "                             .sort_values(['Total Purchase Value'], ascending=False) \\\n",
    "                             .head(5)\n",
    "\n",
    "purchase_value_df = purchase_value_df.reset_index(drop=True)\n",
    "purchase_value_df"
   ]
  },
  {
   "cell_type": "code",
   "execution_count": 31,
   "metadata": {},
   "outputs": [],
   "source": [
    "# Merge purchase count\n",
    "purchase_count_df = purchases_df.groupby(['Item ID'])['Purchase ID'] \\\n",
    "                             .count() \\\n",
    "                             .reset_index(name='Purchase Count') \\\n",
    "                             .sort_values(['Purchase Count'], ascending=False)\n",
    "merge_1_df = pd.merge(purchase_value_df, purchase_count_df, on=\"Item ID\")"
   ]
  },
  {
   "cell_type": "code",
   "execution_count": 32,
   "metadata": {},
   "outputs": [],
   "source": [
    "# Merge Item Price\n",
    "item_price_df = purchases_df[[\"Item ID\",\"Price\"]]\n",
    "merge_2_df = pd.merge(merge_1_df, item_price_df, on=\"Item ID\")"
   ]
  },
  {
   "cell_type": "code",
   "execution_count": 33,
   "metadata": {},
   "outputs": [
    {
     "data": {
      "text/html": [
       "<div>\n",
       "<style scoped>\n",
       "    .dataframe tbody tr th:only-of-type {\n",
       "        vertical-align: middle;\n",
       "    }\n",
       "\n",
       "    .dataframe tbody tr th {\n",
       "        vertical-align: top;\n",
       "    }\n",
       "\n",
       "    .dataframe thead th {\n",
       "        text-align: right;\n",
       "    }\n",
       "</style>\n",
       "<table border=\"1\" class=\"dataframe\">\n",
       "  <thead>\n",
       "    <tr style=\"text-align: right;\">\n",
       "      <th></th>\n",
       "      <th>Item ID</th>\n",
       "      <th>Item Name</th>\n",
       "      <th>Purchase Count</th>\n",
       "      <th>Price</th>\n",
       "      <th>Total Purchase Value</th>\n",
       "    </tr>\n",
       "  </thead>\n",
       "  <tbody>\n",
       "    <tr>\n",
       "      <td>0</td>\n",
       "      <td>92</td>\n",
       "      <td>Final Critic</td>\n",
       "      <td>13</td>\n",
       "      <td>4.19</td>\n",
       "      <td>59.99</td>\n",
       "    </tr>\n",
       "    <tr>\n",
       "      <td>1</td>\n",
       "      <td>178</td>\n",
       "      <td>Oathbreaker, Last Hope of the Breaking Storm</td>\n",
       "      <td>12</td>\n",
       "      <td>4.23</td>\n",
       "      <td>50.76</td>\n",
       "    </tr>\n",
       "    <tr>\n",
       "      <td>2</td>\n",
       "      <td>82</td>\n",
       "      <td>Nirvana</td>\n",
       "      <td>9</td>\n",
       "      <td>4.90</td>\n",
       "      <td>44.10</td>\n",
       "    </tr>\n",
       "    <tr>\n",
       "      <td>3</td>\n",
       "      <td>145</td>\n",
       "      <td>Fiery Glass Crusader</td>\n",
       "      <td>9</td>\n",
       "      <td>4.58</td>\n",
       "      <td>41.22</td>\n",
       "    </tr>\n",
       "    <tr>\n",
       "      <td>4</td>\n",
       "      <td>103</td>\n",
       "      <td>Singed Scalpel</td>\n",
       "      <td>8</td>\n",
       "      <td>4.35</td>\n",
       "      <td>34.80</td>\n",
       "    </tr>\n",
       "  </tbody>\n",
       "</table>\n",
       "</div>"
      ],
      "text/plain": [
       "   Item ID                                     Item Name  Purchase Count  \\\n",
       "0       92                                  Final Critic              13   \n",
       "1      178  Oathbreaker, Last Hope of the Breaking Storm              12   \n",
       "2       82                                       Nirvana               9   \n",
       "3      145                          Fiery Glass Crusader               9   \n",
       "4      103                                Singed Scalpel               8   \n",
       "\n",
       "   Price  Total Purchase Value  \n",
       "0   4.19                 59.99  \n",
       "1   4.23                 50.76  \n",
       "2   4.90                 44.10  \n",
       "3   4.58                 41.22  \n",
       "4   4.35                 34.80  "
      ]
     },
     "execution_count": 33,
     "metadata": {},
     "output_type": "execute_result"
    }
   ],
   "source": [
    "# 5 most profitable items by total purchase value\n",
    "poplular_items_by_total_purchase_value = merge_2_df.drop_duplicates(['Item ID'], keep='last')\n",
    "poplular_items_by_total_purchase_value = poplular_items_by_total_purchase_value[[\"Item ID\",\"Item Name\",\"Purchase Count\",\"Price\",\"Total Purchase Value\"]]\n",
    "poplular_items_by_total_purchase_value = poplular_items_by_total_purchase_value.reset_index(drop=True)\n",
    "poplular_items_by_total_purchase_value"
   ]
  },
  {
   "cell_type": "code",
   "execution_count": null,
   "metadata": {},
   "outputs": [],
   "source": [
    "# Three Observable Trends\n",
    "\n",
    "# 1. Between the ages of 20 to 24 spent the most on items\n",
    "# 2. Heroes Of Pymoli is most popular with males between the ages of 20 to 24\n",
    "# 3. The 'Final Critic' is the most popular and most profictable item"
   ]
  }
 ],
 "metadata": {
  "kernelspec": {
   "display_name": "Python 3",
   "language": "python",
   "name": "python3"
  },
  "language_info": {
   "codemirror_mode": {
    "name": "ipython",
    "version": 3
   },
   "file_extension": ".py",
   "mimetype": "text/x-python",
   "name": "python",
   "nbconvert_exporter": "python",
   "pygments_lexer": "ipython3",
   "version": "3.7.4"
  }
 },
 "nbformat": 4,
 "nbformat_minor": 2
}
